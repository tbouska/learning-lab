{
 "cells": [
  {
   "cell_type": "markdown",
   "metadata": {},
   "source": [
    "# Unordered\n",
    "Python dictionary is orderless, so it is faster to access, but can't be sorted or iterated in the order of items. From Python 3.6 onwards, the standard dict type maintains insertion order by default."
   ]
  },
  {
   "cell_type": "code",
   "execution_count": 1,
   "metadata": {},
   "outputs": [],
   "source": [
    "months = {'Leden': 1,\n",
    "          'Unor': 2,\n",
    "          'Brezen': 3,\n",
    "          'Duben': 4,\n",
    "          'Kveten': 5,\n",
    "          'Cerven': 6,\n",
    "          'Cervenec': 7,\n",
    "          'Srpen': 8,\n",
    "          'Zari': 9,\n",
    "          'Rijen': 10,\n",
    "          'Listopad': 11,\n",
    "          'Prosinec': 12,\n",
    "         }"
   ]
  },
  {
   "cell_type": "markdown",
   "metadata": {},
   "source": [
    "I want to print \"months : order\" mapping with the months' names ordered alphabetically. There is no .sort() for dictionaries and so I have to sort the list of dictionary keys and then iterate."
   ]
  },
  {
   "cell_type": "code",
   "execution_count": 2,
   "metadata": {},
   "outputs": [
    {
     "name": "stdout",
     "output_type": "stream",
     "text": [
      "Brezen : 3\n",
      "Cerven : 6\n",
      "Cervenec : 7\n",
      "Duben : 4\n",
      "Kveten : 5\n",
      "Leden : 1\n",
      "Listopad : 11\n",
      "Prosinec : 12\n",
      "Rijen : 10\n",
      "Srpen : 8\n",
      "Unor : 2\n",
      "Zari : 9\n"
     ]
    }
   ],
   "source": [
    "for month, order in sorted(months.items(), key=lambda x: x[1]):\n",
    "    print(month,\":\",order)"
   ]
  },
  {
   "cell_type": "markdown",
   "metadata": {},
   "source": [
    "Sorted function can be passed a key and this can be used to sort by value"
   ]
  },
  {
   "cell_type": "code",
   "execution_count": 3,
   "metadata": {},
   "outputs": [
    {
     "name": "stdout",
     "output_type": "stream",
     "text": [
      "Prosinec : 12\n",
      "Listopad : 11\n",
      "Rijen : 10\n",
      "Zari : 9\n",
      "Srpen : 8\n",
      "Cervenec : 7\n",
      "Cerven : 6\n",
      "Kveten : 5\n",
      "Duben : 4\n",
      "Brezen : 3\n",
      "Unor : 2\n",
      "Leden : 1\n"
     ]
    }
   ],
   "source": [
    "for month, order in sorted(months.items(), key = lambda x: -x[1]):\n",
    "    print(month, \":\", order)"
   ]
  },
  {
   "cell_type": "markdown",
   "metadata": {},
   "source": [
    "The principle of list comprehension applies to dictionaries to. The following dictionary comprehension flips the values and keys"
   ]
  },
  {
   "cell_type": "code",
   "execution_count": 4,
   "metadata": {},
   "outputs": [
    {
     "name": "stdout",
     "output_type": "stream",
     "text": [
      "{1: 'Leden', 2: 'Unor', 3: 'Brezen', 4: 'Duben', 5: 'Kveten', 6: 'Cerven', 7: 'Cervenec', 8: 'Srpen', 9: 'Zari', 10: 'Rijen', 11: 'Listopad', 12: 'Prosinec'}\n"
     ]
    }
   ],
   "source": [
    "flipped = {order: month for month, order in months.items()}\n",
    "print(flipped)"
   ]
  },
  {
   "cell_type": "code",
   "execution_count": null,
   "metadata": {},
   "outputs": [],
   "source": []
  }
 ],
 "metadata": {
  "kernelspec": {
   "display_name": "Python 3",
   "language": "python",
   "name": "python3"
  },
  "language_info": {
   "codemirror_mode": {
    "name": "ipython",
    "version": 3
   },
   "file_extension": ".py",
   "mimetype": "text/x-python",
   "name": "python",
   "nbconvert_exporter": "python",
   "pygments_lexer": "ipython3",
   "version": "3.7.5"
  }
 },
 "nbformat": 4,
 "nbformat_minor": 2
}
